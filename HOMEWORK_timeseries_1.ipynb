{
 "cells": [
  {
   "cell_type": "code",
   "execution_count": 2,
   "id": "1c2ffe9b-4c0e-4f81-9e73-f023e6147895",
   "metadata": {},
   "outputs": [],
   "source": [
    "# Импорт библиотек\n",
    "import pandas as pd\n",
    "import numpy as np\n",
    "import matplotlib.pyplot as plt\n",
    "from statsmodels.tsa.stattools import adfuller"
   ]
  },
  {
   "cell_type": "code",
   "execution_count": null,
   "id": "f2f90161-2c3d-4110-b16b-ab5f5320badb",
   "metadata": {},
   "outputs": [],
   "source": [
    "# Загрузка данных\n",
    "df_temp = pd.read_csv('mean-monthly-air-temperature-deg.csv', parse_dates=['Month'], index_col='Month')\n",
    "df_rob = pd.read_csv('monthly-boston-armed-robberies-j.csv', parse_dates=['Month'], index_col='Month')\n",
    "df_sales = pd.read_csv('monthly-sales-of-company-x-jan-6.csv', parse_dates=['Month'], index_col='Month')\n",
    "df_dow = pd.read_csv('weekly-closings-of-the-dowjones-.csv', parse_dates=['Week'], index_col='Week')\n",
    "df_birth = pd.read_csv('daily-total-female-births-in-cal.csv', parse_dates=['Date'], index_col='Date')\n",
    "df_air = pd.read_csv('international-airline-passengers.csv', parse_dates=['Month'], index_col='Month')"
   ]
  },
  {
   "cell_type": "code",
   "execution_count": null,
   "id": "aa39782a-b853-48ee-b7a0-bcd1b59b6a61",
   "metadata": {},
   "outputs": [],
   "source": [
    "# Функция для проверки стационарности\n",
    "def check_stationarity(series, name):\n",
    "    result = adfuller(series.dropna())\n",
    "    print(f'Результат теста Дики-Фуллера для {name}:')\n",
    "    print(f'ADF Statistic: {result[0]}')\n",
    "    print(f'p-value: {result[1]}')\n",
    "    if result[1] <= 0.05:\n",
    "        print(\"Ряд стационарен\\n\")\n",
    "    else:\n",
    "        print(\"Ряд нестационарен\\n\")"
   ]
  },
  {
   "cell_type": "code",
   "execution_count": null,
   "id": "38cd7fc1-3072-4c9b-badd-6ef6508f37f5",
   "metadata": {},
   "outputs": [],
   "source": [
    "# 1. Температура воздуха\n",
    "df_temp['diff_seasonal'] = df_temp['Deg'].diff(12)\n",
    "check_stationarity(df_temp['diff_seasonal'], 'Температура воздуха (сезонное дифференцирование)')"
   ]
  },
  {
   "cell_type": "code",
   "execution_count": null,
   "id": "8b339987-c05d-4850-bd0b-4c38a4f4c1c8",
   "metadata": {},
   "outputs": [],
   "source": [
    "# 2. Ограбления в Бостоне\n",
    "df_rob['log'] = np.log(df_rob['Count'])\n",
    "df_rob['diff'] = df_rob['log'].diff(1)\n",
    "check_stationarity(df_rob['diff'], 'Ограбления в Бостоне (логарифмирование + дифференцирование)')"
   ]
  },
  {
   "cell_type": "code",
   "execution_count": null,
   "id": "343765f7-f09c-4caa-90fb-8120c3dfe3ee",
   "metadata": {},
   "outputs": [],
   "source": [
    "# 3. Продажи компании\n",
    "df_sales['log'] = np.log(df_sales['Count'])\n",
    "df_sales['diff_seasonal'] = df_sales['log'].diff(12)\n",
    "check_stationarity(df_sales['diff_seasonal'], 'Продажи компании (логарифмирование + сезонное дифференцирование)')"
   ]
  },
  {
   "cell_type": "code",
   "execution_count": null,
   "id": "ff3e2d0d-b783-4d94-be0f-be9750677eae",
   "metadata": {},
   "outputs": [],
   "source": [
    "# 4. Индекс Dow Jones\n",
    "df_dow['diff'] = df_dow['Close'].diff(1)\n",
    "check_stationarity(df_dow['diff'], 'Индекс Dow Jones (дифференцирование)')"
   ]
  },
  {
   "cell_type": "code",
   "execution_count": null,
   "id": "f64424bb-1dd6-4c91-942f-aeba713cc4b3",
   "metadata": {},
   "outputs": [],
   "source": [
    "# 5. Рождаемость\n",
    "check_stationarity(df_birth['Count'], 'Рождаемость (исходный ряд)')"
   ]
  },
  {
   "cell_type": "code",
   "execution_count": null,
   "id": "f3454434-e7a6-4b25-b6c2-dabb5360a38f",
   "metadata": {},
   "outputs": [],
   "source": [
    "# 6. Пассажиры авиакомпаний\n",
    "df_air['log'] = np.log(df_air['Count'])\n",
    "df_air['diff_seasonal'] = df_air['log'].diff(12)\n",
    "check_stationarity(df_air['diff_seasonal'], 'Пассажиры авиакомпаний (логарифмирование + сезонное дифференцирование)')"
   ]
  },
  {
   "cell_type": "code",
   "execution_count": null,
   "id": "ad6c9415-137b-4f07-ad04-57b9d73caaa4",
   "metadata": {},
   "outputs": [],
   "source": [
    "# Визуализация преобразованных рядов\n",
    "plt.figure(figsize=(14, 10))\n",
    "\n",
    "plt.subplot(3, 2, 1)\n",
    "df_temp['diff_seasonal'].plot(title='Температура воздуха (сезонное дифференцирование)')\n",
    "\n",
    "plt.subplot(3, 2, 2)\n",
    "df_rob['diff'].plot(title='Ограбления в Бостоне (логарифмирование + дифференцирование)')\n",
    "\n",
    "plt.subplot(3, 2, 3)\n",
    "df_sales['diff_seasonal'].plot(title='Продажи компании (логарифмирование + сезонное дифференцирование)')\n",
    "\n",
    "plt.subplot(3, 2, 4)\n",
    "df_dow['diff'].plot(title='Индекс Dow Jones (дифференцирование)')\n",
    "\n",
    "plt.subplot(3, 2, 5)\n",
    "df_birth['Count'].plot(title='Рождаемость (исходный ряд)')\n",
    "\n",
    "plt.subplot(3, 2, 6)\n",
    "df_air['diff_seasonal'].plot(title='Пассажиры авиакомпаний (логарифмирование + сезонное дифференцирование)')\n",
    "\n",
    "plt.tight_layout()\n",
    "plt.show()"
   ]
  }
 ],
 "metadata": {
  "kernelspec": {
   "display_name": "Python 3 (ipykernel)",
   "language": "python",
   "name": "python3"
  },
  "language_info": {
   "codemirror_mode": {
    "name": "ipython",
    "version": 3
   },
   "file_extension": ".py",
   "mimetype": "text/x-python",
   "name": "python",
   "nbconvert_exporter": "python",
   "pygments_lexer": "ipython3",
   "version": "3.12.7"
  }
 },
 "nbformat": 4,
 "nbformat_minor": 5
}
